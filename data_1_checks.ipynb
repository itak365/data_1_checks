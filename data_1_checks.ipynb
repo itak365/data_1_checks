{
 "cells": [
  {
   "cell_type": "markdown",
   "metadata": {},
   "source": [
    "#__KNOWLEDGE CHECK 1 - DATA CHECKS__ (data_1_checks.ipynb)"
   ]
  },
  {
   "cell_type": "markdown",
   "metadata": {},
   "source": [
    "##SIMPLE PRINT FUNCTION\n",
    "- \"a statement that prints 'hello world!'\""
   ]
  },
  {
   "cell_type": "code",
   "execution_count": null,
   "metadata": {},
   "outputs": [],
   "source": [
    "print('Hello, World!')"
   ]
  },
  {
   "cell_type": "markdown",
   "metadata": {},
   "source": [
    "##LIST EXAMPLE\n",
    "- \"a list populated with several values. They can be strings / integers / floats etc.\""
   ]
  },
  {
   "cell_type": "code",
   "execution_count": null,
   "metadata": {},
   "outputs": [],
   "source": [
    "Corvettes = ['grand sport', 'stingray', 'z06', 'zr1', \n",
    "            'c1', 'c2', 'c3']\n",
    "print(Corvettes[2])\n"
   ]
  },
  {
   "cell_type": "markdown",
   "metadata": {},
   "source": [
    "##DICTIONARY\n",
    "- \"a dictionary populated with two keys and two values. Print one of the values just like you did above.\""
   ]
  },
  {
   "cell_type": "code",
   "execution_count": null,
   "metadata": {},
   "outputs": [],
   "source": [
    "Corvettes = {'c1': 'red', 'c2': 'bottle green', 'c3': 'black',\n",
    "            'grand sport': 'yellow', 'stingray': 'gray', \n",
    "            'z06': 'orange', 'zr1': 'cobalt'}\n",
    "print(Corvettes['z06'])"
   ]
  },
  {
   "cell_type": "markdown",
   "metadata": {},
   "source": [
    "#FUN WITH TUPLES\n",
    "- \"a tuple with 4 values. Print one of them\"\n"
   ]
  },
  {
   "cell_type": "code",
   "execution_count": null,
   "metadata": {},
   "outputs": [],
   "source": [
    "Corvettes = [ \n",
    "    {\n",
    "    \"manufacturer\" : \"Chevrolet/General Motors\",\n",
    "    \"model\" : \"C1\",\n",
    "    \"year\" : 1953,\n",
    "    \"designer\" : \"Harley Earl\"},\n",
    "    {\n",
    "    \"manufacturer\" : \"Chevrolet/General Motors\",\n",
    "    \"model\" : \"C2\",\n",
    "    \"year\" : 1963,\n",
    "    \"designer\" : \"Larry Shinoda\"},\n",
    "    {\n",
    "    \"manufacturer\" : \"Chevrolet/General Motors\",\n",
    "    \"model\" : \"C3\",\n",
    "    \"year\" : 1967,\n",
    "    \"designer\" : \"Bill Mitchell\"},\n",
    "]\n",
    "\n",
    "Corvettes[1]"
   ]
  },
  {
   "cell_type": "code",
   "execution_count": null,
   "metadata": {},
   "outputs": [],
   "source": [
    "Corvettes = [ \n",
    "    {\n",
    "    \"manufacturer\" : \"Chevrolet/General Motors\",\n",
    "    \"model\" : \"C1\",\n",
    "    \"year\" : 1953,\n",
    "    \"designer\" : \"Harley Earl\"},\n",
    "    {\n",
    "    \"manufacturer\" : \"Chevrolet/General Motors\",\n",
    "    \"model\" : \"C2\",\n",
    "    \"year\" : 1963,\n",
    "    \"designer\" : \"Larry Shinoda\"},\n",
    "    {\n",
    "    \"manufacturer\" : \"Chevrolet/General Motors\",\n",
    "    \"model\" : \"C3\",\n",
    "    \"year\" : 1967,\n",
    "    \"designer\" : \"Bill Mitchell\"},\n",
    "]\n",
    "Corvettes[1][\"designer\"]"
   ]
  }
 ],
 "metadata": {
  "interpreter": {
   "hash": "af43397983df6c5df17c91c68681f63fcec6c6cb2ae2cae4b2cedcef966d105b"
  },
  "kernelspec": {
   "display_name": "Python 3.9.7 ('base')",
   "language": "python",
   "name": "python3"
  },
  "language_info": {
   "codemirror_mode": {
    "name": "ipython",
    "version": 3
   },
   "file_extension": ".py",
   "mimetype": "text/x-python",
   "name": "python",
   "nbconvert_exporter": "python",
   "pygments_lexer": "ipython3",
   "version": "3.9.7"
  },
  "orig_nbformat": 4
 },
 "nbformat": 4,
 "nbformat_minor": 2
}
